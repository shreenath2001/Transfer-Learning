{
 "cells": [
  {
   "cell_type": "code",
   "execution_count": 21,
   "metadata": {},
   "outputs": [],
   "source": [
    "import matplotlib.pyplot as plt\n",
    "import seaborn as sns\n",
    "import numpy as np\n",
    "import pandas as pd\n",
    "\n",
    "import tensorflow as tf\n",
    "from tensorflow.keras.preprocessing import image\n",
    "from tensorflow.keras.preprocessing.image import ImageDataGenerator\n",
    "from tensorflow.keras import applications\n",
    "from tensorflow.keras.models import Sequential\n",
    "from tensorflow.keras.layers import Dense, GlobalAveragePooling2D, Dropout\n",
    "from tensorflow.keras import optimizers, activations, losses, models\n",
    "from tensorflow.keras.callbacks import ModelCheckpoint, EarlyStopping\n",
    "from tensorflow.keras.models import model_from_json\n",
    "from glob import glob"
   ]
  },
  {
   "cell_type": "code",
   "execution_count": 2,
   "metadata": {},
   "outputs": [
    {
     "data": {
      "text/plain": [
       "<matplotlib.image.AxesImage at 0x216332dc280>"
      ]
     },
     "execution_count": 2,
     "metadata": {},
     "output_type": "execute_result"
    },
    {
     "data": {
      "image/png": "[encoded data removed]",
      "text/plain": [
       "<Figure size 432x288 with 1 Axes>"
      ]
     },
     "metadata": {
      "needs_background": "light"
     },
     "output_type": "display_data"
    }
   ],
   "source": [
    "img = image.load_img('Training/Airplane/image2.jpg')\n",
    "img = image.img_to_array(img)/255\n",
    "plt.imshow(img)"
   ]
  },
  {
   "cell_type": "code",
   "execution_count": 3,
   "metadata": {},
   "outputs": [
    {
     "data": {
      "text/plain": [
       "(53, 80, 3)"
      ]
     },
     "execution_count": 3,
     "metadata": {},
     "output_type": "execute_result"
    }
   ],
   "source": [
    "img.shape"
   ]
  },
  {
   "cell_type": "code",
   "execution_count": 4,
   "metadata": {},
   "outputs": [
    {
     "name": "stdout",
     "output_type": "stream",
     "text": [
      "Found 5176 images belonging to 6 classes.\n"
     ]
    }
   ],
   "source": [
    "train_datagen = ImageDataGenerator(rescale = 1./255)\n",
    "\n",
    "training_set = train_datagen.flow_from_directory('Training',\n",
    "                                                target_size = (224, 224),\n",
    "                                                batch_size = 128,\n",
    "                                                class_mode = 'categorical')"
   ]
  },
  {
   "cell_type": "code",
   "execution_count": 5,
   "metadata": {},
   "outputs": [
    {
     "name": "stdout",
     "output_type": "stream",
     "text": [
      "Found 1293 images belonging to 6 classes.\n"
     ]
    }
   ],
   "source": [
    "valid_datagen = ImageDataGenerator(rescale = 1./255)\n",
    "\n",
    "validation_set = valid_datagen.flow_from_directory('Validation',\n",
    "                                                target_size = (224, 224),\n",
    "                                                batch_size = 32,\n",
    "                                                class_mode = 'categorical')"
   ]
  },
  {
   "cell_type": "code",
   "execution_count": 6,
   "metadata": {},
   "outputs": [],
   "source": [
    "input_shape = (224, 224, 3)\n",
    "nclass = len(glob('Training/*'))"
   ]
  },
  {
   "cell_type": "code",
   "execution_count": 7,
   "metadata": {},
   "outputs": [],
   "source": [
    "base_model = applications.InceptionV3(weights='imagenet',\n",
    "                                     include_top = False,\n",
    "                                     input_shape=input_shape)\n",
    "base_model.trainable = False"
   ]
  },
  {
   "cell_type": "code",
   "execution_count": 8,
   "metadata": {},
   "outputs": [
    {
     "name": "stdout",
     "output_type": "stream",
     "text": [
      "Model: \"sequential\"\n",
      "_________________________________________________________________\n",
      "Layer (type)                 Output Shape              Param #   \n",
      "=================================================================\n",
      "inception_v3 (Functional)    (None, 5, 5, 2048)        21802784  \n",
      "_________________________________________________________________\n",
      "global_average_pooling2d (Gl (None, 2048)              0         \n",
      "_________________________________________________________________\n",
      "dropout (Dropout)            (None, 2048)              0         \n",
      "_________________________________________________________________\n",
      "dense (Dense)                (None, 6)                 12294     \n",
      "=================================================================\n",
      "Total params: 21,815,078\n",
      "Trainable params: 12,294\n",
      "Non-trainable params: 21,802,784\n",
      "_________________________________________________________________\n"
     ]
    }
   ],
   "source": [
    "model = Sequential()\n",
    "model.add(base_model)\n",
    "model.add(GlobalAveragePooling2D())\n",
    "model.add(Dropout(0.5))\n",
    "model.add(Dense(nclass, activation = 'softmax'))\n",
    "\n",
    "model.compile(loss='categorical_crossentropy',\n",
    "             optimizer = optimizers.SGD(lr=1e-4),\n",
    "              metrics = ['accuracy'])\n",
    "\n",
    "model.summary()"
   ]
  },
  {
   "cell_type": "code",
   "execution_count": 9,
   "metadata": {},
   "outputs": [],
   "source": [
    "file_path=\"model.h5\"\n",
    "\n",
    "checkpoint = ModelCheckpoint(file_path, monitor='val_accuracy', verbose=1, save_best_only=True, mode='max')\n",
    "\n",
    "early = EarlyStopping(monitor=\"val_accuracy\", mode=\"max\", patience=2)\n",
    "\n",
    "callbacks_list = [checkpoint, early]"
   ]
  },
  {
   "cell_type": "code",
   "execution_count": 10,
   "metadata": {},
   "outputs": [
    {
     "name": "stdout",
     "output_type": "stream",
     "text": [
      "Epoch 1/20\n",
      "41/41 [==============================] - ETA: 0s - loss: 2.4504 - accuracy: 0.1640\n",
      "Epoch 00001: val_accuracy improved from -inf to 0.18407, saving model to model.h5\n",
      "41/41 [==============================] - 355s 9s/step - loss: 2.4504 - accuracy: 0.1640 - val_loss: 1.9496 - val_accuracy: 0.1841\n",
      "Epoch 2/20\n",
      "41/41 [==============================] - ETA: 0s - loss: 2.1950 - accuracy: 0.2083\n",
      "Epoch 00002: val_accuracy improved from 0.18407 to 0.25599, saving model to model.h5\n",
      "41/41 [==============================] - 347s 8s/step - loss: 2.1950 - accuracy: 0.2083 - val_loss: 1.7560 - val_accuracy: 0.2560\n",
      "Epoch 3/20\n",
      "41/41 [==============================] - ETA: 0s - loss: 2.0650 - accuracy: 0.2533\n",
      "Epoch 00003: val_accuracy improved from 0.25599 to 0.32096, saving model to model.h5\n",
      "41/41 [==============================] - 337s 8s/step - loss: 2.0650 - accuracy: 0.2533 - val_loss: 1.6591 - val_accuracy: 0.3210\n",
      "Epoch 4/20\n",
      "41/41 [==============================] - ETA: 0s - loss: 1.9891 - accuracy: 0.2828\n",
      "Epoch 00004: val_accuracy improved from 0.32096 to 0.37587, saving model to model.h5\n",
      "41/41 [==============================] - 348s 8s/step - loss: 1.9891 - accuracy: 0.2828 - val_loss: 1.6067 - val_accuracy: 0.3759\n",
      "Epoch 5/20\n",
      "41/41 [==============================] - ETA: 0s - loss: 1.9288 - accuracy: 0.3174\n",
      "Epoch 00005: val_accuracy improved from 0.37587 to 0.39366, saving model to model.h5\n",
      "41/41 [==============================] - 333s 8s/step - loss: 1.9288 - accuracy: 0.3174 - val_loss: 1.5730 - val_accuracy: 0.3937\n",
      "Epoch 6/20\n",
      "41/41 [==============================] - ETA: 0s - loss: 1.8910 - accuracy: 0.3308\n",
      "Epoch 00006: val_accuracy improved from 0.39366 to 0.41145, saving model to model.h5\n",
      "41/41 [==============================] - 331s 8s/step - loss: 1.8910 - accuracy: 0.3308 - val_loss: 1.5482 - val_accuracy: 0.4114\n",
      "Epoch 7/20\n",
      "41/41 [==============================] - ETA: 0s - loss: 1.8733 - accuracy: 0.3480\n",
      "Epoch 00007: val_accuracy improved from 0.41145 to 0.42073, saving model to model.h5\n",
      "41/41 [==============================] - 334s 8s/step - loss: 1.8733 - accuracy: 0.3480 - val_loss: 1.5272 - val_accuracy: 0.4207\n",
      "Epoch 8/20\n",
      "41/41 [==============================] - ETA: 0s - loss: 1.8521 - accuracy: 0.3476\n",
      "Epoch 00008: val_accuracy improved from 0.42073 to 0.43387, saving model to model.h5\n",
      "41/41 [==============================] - 343s 8s/step - loss: 1.8521 - accuracy: 0.3476 - val_loss: 1.5079 - val_accuracy: 0.4339\n",
      "Epoch 9/20\n",
      "41/41 [==============================] - ETA: 0s - loss: 1.8458 - accuracy: 0.3565\n",
      "Epoch 00009: val_accuracy improved from 0.43387 to 0.44161, saving model to model.h5\n",
      "41/41 [==============================] - 340s 8s/step - loss: 1.8458 - accuracy: 0.3565 - val_loss: 1.4900 - val_accuracy: 0.4416\n",
      "Epoch 10/20\n",
      "41/41 [==============================] - ETA: 0s - loss: 1.8014 - accuracy: 0.3750\n",
      "Epoch 00010: val_accuracy improved from 0.44161 to 0.44934, saving model to model.h5\n",
      "41/41 [==============================] - 332s 8s/step - loss: 1.8014 - accuracy: 0.3750 - val_loss: 1.4732 - val_accuracy: 0.4493\n",
      "Epoch 11/20\n",
      "41/41 [==============================] - ETA: 0s - loss: 1.7822 - accuracy: 0.3686\n",
      "Epoch 00011: val_accuracy improved from 0.44934 to 0.45476, saving model to model.h5\n",
      "41/41 [==============================] - 331s 8s/step - loss: 1.7822 - accuracy: 0.3686 - val_loss: 1.4567 - val_accuracy: 0.4548\n",
      "Epoch 12/20\n",
      "41/41 [==============================] - ETA: 0s - loss: 1.7914 - accuracy: 0.3686\n",
      "Epoch 00012: val_accuracy improved from 0.45476 to 0.46558, saving model to model.h5\n",
      "41/41 [==============================] - 332s 8s/step - loss: 1.7914 - accuracy: 0.3686 - val_loss: 1.4404 - val_accuracy: 0.4656\n",
      "Epoch 13/20\n",
      "41/41 [==============================] - ETA: 0s - loss: 1.7913 - accuracy: 0.3723\n",
      "Epoch 00013: val_accuracy improved from 0.46558 to 0.47409, saving model to model.h5\n",
      "41/41 [==============================] - 332s 8s/step - loss: 1.7913 - accuracy: 0.3723 - val_loss: 1.4251 - val_accuracy: 0.4741\n",
      "Epoch 14/20\n",
      "41/41 [==============================] - ETA: 0s - loss: 1.7492 - accuracy: 0.3908\n",
      "Epoch 00014: val_accuracy improved from 0.47409 to 0.48105, saving model to model.h5\n",
      "41/41 [==============================] - 337s 8s/step - loss: 1.7492 - accuracy: 0.3908 - val_loss: 1.4098 - val_accuracy: 0.4811\n",
      "Epoch 15/20\n",
      "41/41 [==============================] - ETA: 0s - loss: 1.7202 - accuracy: 0.3906\n",
      "Epoch 00015: val_accuracy improved from 0.48105 to 0.48724, saving model to model.h5\n",
      "41/41 [==============================] - 332s 8s/step - loss: 1.7202 - accuracy: 0.3906 - val_loss: 1.3949 - val_accuracy: 0.4872\n",
      "Epoch 16/20\n",
      "41/41 [==============================] - ETA: 0s - loss: 1.7004 - accuracy: 0.3968\n",
      "Epoch 00016: val_accuracy improved from 0.48724 to 0.49652, saving model to model.h5\n",
      "41/41 [==============================] - 335s 8s/step - loss: 1.7004 - accuracy: 0.3968 - val_loss: 1.3810 - val_accuracy: 0.4965\n",
      "Epoch 17/20\n",
      "41/41 [==============================] - ETA: 0s - loss: 1.7009 - accuracy: 0.3995\n",
      "Epoch 00017: val_accuracy improved from 0.49652 to 0.50657, saving model to model.h5\n",
      "41/41 [==============================] - 336s 8s/step - loss: 1.7009 - accuracy: 0.3995 - val_loss: 1.3667 - val_accuracy: 0.5066\n",
      "Epoch 18/20\n",
      "41/41 [==============================] - ETA: 0s - loss: 1.6773 - accuracy: 0.4042\n",
      "Epoch 00018: val_accuracy improved from 0.50657 to 0.51044, saving model to model.h5\n",
      "41/41 [==============================] - 332s 8s/step - loss: 1.6773 - accuracy: 0.4042 - val_loss: 1.3523 - val_accuracy: 0.5104\n",
      "Epoch 19/20\n",
      "41/41 [==============================] - ETA: 0s - loss: 1.6530 - accuracy: 0.4219\n",
      "Epoch 00019: val_accuracy improved from 0.51044 to 0.51585, saving model to model.h5\n",
      "41/41 [==============================] - 334s 8s/step - loss: 1.6530 - accuracy: 0.4219 - val_loss: 1.3388 - val_accuracy: 0.5159\n",
      "Epoch 20/20\n",
      "41/41 [==============================] - ETA: 0s - loss: 1.6513 - accuracy: 0.4212\n",
      "Epoch 00020: val_accuracy improved from 0.51585 to 0.51895, saving model to model.h5\n",
      "41/41 [==============================] - 333s 8s/step - loss: 1.6513 - accuracy: 0.4212 - val_loss: 1.3256 - val_accuracy: 0.5189\n"
     ]
    }
   ],
   "source": [
    "history = model.fit(training_set,\n",
    "                  validation_data=validation_set, \n",
    "                  epochs=20, \n",
    "                  shuffle=True, \n",
    "                  verbose=True,\n",
    "                  callbacks=callbacks_list)"
   ]
  },
  {
   "cell_type": "code",
   "execution_count": 23,
   "metadata": {},
   "outputs": [],
   "source": [
    "model = tf.keras.models.load_model('model.h5')"
   ]
  },
  {
   "cell_type": "code",
   "execution_count": 24,
   "metadata": {},
   "outputs": [
    {
     "data": {
      "text/html": [
       "<div>\n",
       "<style scoped>\n",
       "    .dataframe tbody tr th:only-of-type {\n",
       "        vertical-align: middle;\n",
       "    }\n",
       "\n",
       "    .dataframe tbody tr th {\n",
       "        vertical-align: top;\n",
       "    }\n",
       "\n",
       "    .dataframe thead th {\n",
       "        text-align: right;\n",
       "    }\n",
       "</style>\n",
       "<table border=\"1\" class=\"dataframe\">\n",
       "  <thead>\n",
       "    <tr style=\"text-align: right;\">\n",
       "      <th></th>\n",
       "      <th>Image</th>\n",
       "    </tr>\n",
       "  </thead>\n",
       "  <tbody>\n",
       "    <tr>\n",
       "      <th>0</th>\n",
       "      <td>image10.jpg</td>\n",
       "    </tr>\n",
       "    <tr>\n",
       "      <th>1</th>\n",
       "      <td>image100.jpg</td>\n",
       "    </tr>\n",
       "    <tr>\n",
       "      <th>2</th>\n",
       "      <td>image1013.jpg</td>\n",
       "    </tr>\n",
       "    <tr>\n",
       "      <th>3</th>\n",
       "      <td>image1014.jpg</td>\n",
       "    </tr>\n",
       "    <tr>\n",
       "      <th>4</th>\n",
       "      <td>image1018.jpg</td>\n",
       "    </tr>\n",
       "  </tbody>\n",
       "</table>\n",
       "</div>"
      ],
      "text/plain": [
       "           Image\n",
       "0    image10.jpg\n",
       "1   image100.jpg\n",
       "2  image1013.jpg\n",
       "3  image1014.jpg\n",
       "4  image1018.jpg"
      ]
     },
     "execution_count": 24,
     "metadata": {},
     "output_type": "execute_result"
    }
   ],
   "source": [
    "test = pd.read_csv('test.csv')\n",
    "test.head()"
   ]
  },
  {
   "cell_type": "code",
   "execution_count": 25,
   "metadata": {},
   "outputs": [
    {
     "data": {
      "text/plain": [
       "0         image10.jpg\n",
       "1        image100.jpg\n",
       "2       image1013.jpg\n",
       "3       image1014.jpg\n",
       "4       image1018.jpg\n",
       "            ...      \n",
       "3484    image9953.jpg\n",
       "3485    image9956.jpg\n",
       "3486    image9958.jpg\n",
       "3487    image9960.jpg\n",
       "3488     image997.jpg\n",
       "Name: Image, Length: 3489, dtype: object"
      ]
     },
     "execution_count": 25,
     "metadata": {},
     "output_type": "execute_result"
    }
   ],
   "source": [
    "test['Image']"
   ]
  },
  {
   "cell_type": "code",
   "execution_count": 35,
   "metadata": {},
   "outputs": [],
   "source": [
    "path = \"test/\"\n",
    "y_pred = []\n",
    "for i in range(len(test)):\n",
    "    name = test.loc[i]['Image']\n",
    "    loc = path+name\n",
    "    img = image.load_img(loc, target_size = (224, 224))\n",
    "    x = image.img_to_array(img)\n",
    "    x = np.expand_dims(x, axis = 0)\n",
    "    \n",
    "    images = np.vstack([x])\n",
    "    classes = model.predict(images)\n",
    "    y_pred.append(np.argmax(classes))"
   ]
  },
  {
   "cell_type": "code",
   "execution_count": 14,
   "metadata": {},
   "outputs": [
    {
     "data": {
      "text/html": [
       "<div>\n",
       "<style scoped>\n",
       "    .dataframe tbody tr th:only-of-type {\n",
       "        vertical-align: middle;\n",
       "    }\n",
       "\n",
       "    .dataframe tbody tr th {\n",
       "        vertical-align: top;\n",
       "    }\n",
       "\n",
       "    .dataframe thead th {\n",
       "        text-align: right;\n",
       "    }\n",
       "</style>\n",
       "<table border=\"1\" class=\"dataframe\">\n",
       "  <thead>\n",
       "    <tr style=\"text-align: right;\">\n",
       "      <th></th>\n",
       "      <th>class_of_image</th>\n",
       "    </tr>\n",
       "  </thead>\n",
       "  <tbody>\n",
       "    <tr>\n",
       "      <th>0</th>\n",
       "      <td>Miscellaneous</td>\n",
       "    </tr>\n",
       "    <tr>\n",
       "      <th>1</th>\n",
       "      <td>Candle</td>\n",
       "    </tr>\n",
       "    <tr>\n",
       "      <th>2</th>\n",
       "      <td>Snowman</td>\n",
       "    </tr>\n",
       "    <tr>\n",
       "      <th>3</th>\n",
       "      <td>Airplane</td>\n",
       "    </tr>\n",
       "    <tr>\n",
       "      <th>4</th>\n",
       "      <td>Christmas_Tree</td>\n",
       "    </tr>\n",
       "    <tr>\n",
       "      <th>5</th>\n",
       "      <td>Jacket</td>\n",
       "    </tr>\n",
       "  </tbody>\n",
       "</table>\n",
       "</div>"
      ],
      "text/plain": [
       "   class_of_image\n",
       "0   Miscellaneous\n",
       "1          Candle\n",
       "2         Snowman\n",
       "3        Airplane\n",
       "4  Christmas_Tree\n",
       "5          Jacket"
      ]
     },
     "execution_count": 14,
     "metadata": {},
     "output_type": "execute_result"
    }
   ],
   "source": [
    "train_df = pd.read_csv('train.csv')\n",
    "classes = pd.DataFrame(train_df['Class'].unique(), columns = ['class_of_image'])\n",
    "classes"
   ]
  },
  {
   "cell_type": "code",
   "execution_count": 36,
   "metadata": {},
   "outputs": [],
   "source": [
    "for i in range(len(y_pred)):\n",
    "    if y_pred[i] == 0:\n",
    "        y_pred[i] = \"Airplane\"\n",
    "    elif y_pred[i]== 1:\n",
    "        y_pred[i] = \"Candle\"\n",
    "    elif y_pred[i]== 2:\n",
    "        y_pred[i] = \"Christmas_Tree\"\n",
    "    elif y_pred[i]== 3:\n",
    "        y_pred[i] = \"Jacket\"\n",
    "    elif y_pred[i]== 4:\n",
    "        y_pred[i] = \"Miscellaneous\"\n",
    "    elif y_pred[i]== 5:\n",
    "        y_pred[i] = \"Snowman\"\n",
    "    "
   ]
  },
  {
   "cell_type": "code",
   "execution_count": 40,
   "metadata": {},
   "outputs": [],
   "source": [
    "predict_datagen = ImageDataGenerator(rescale = 1./255)"
   ]
  },
  {
   "cell_type": "code",
   "execution_count": 43,
   "metadata": {},
   "outputs": [
    {
     "name": "stdout",
     "output_type": "stream",
     "text": [
      "Found 3489 images belonging to 1 classes.\n"
     ]
    }
   ],
   "source": [
    "predict_set = predict_datagen.flow_from_directory('test/',\n",
    "                                            target_size = (224, 224),\n",
    "                                            class_mode = 'categorical')"
   ]
  },
  {
   "cell_type": "code",
   "execution_count": 44,
   "metadata": {},
   "outputs": [
    {
     "name": "stdout",
     "output_type": "stream",
     "text": [
      "110/110 [==============================] - 216s 2s/step\n"
     ]
    }
   ],
   "source": [
    "y_pred = model.predict(predict_set, verbose = 1)"
   ]
  },
  {
   "cell_type": "code",
   "execution_count": 48,
   "metadata": {},
   "outputs": [],
   "source": [
    "y_pred = np.argmax(y_pred, axis = 1)"
   ]
  },
  {
   "cell_type": "code",
   "execution_count": 60,
   "metadata": {},
   "outputs": [],
   "source": [
    "y_pred = list(y_pred)"
   ]
  },
  {
   "cell_type": "code",
   "execution_count": 61,
   "metadata": {},
   "outputs": [],
   "source": [
    "for i in range(len(y_pred)):\n",
    "    if y_pred[i] == 0:\n",
    "        y_pred[i] = \"Airplane\"\n",
    "    elif y_pred[i]== 1:\n",
    "        y_pred[i] = \"Candle\"\n",
    "    elif y_pred[i]== 2:\n",
    "        y_pred[i] = \"Christmas_Tree\"\n",
    "    elif y_pred[i]== 3:\n",
    "        y_pred[i] = \"Jacket\"\n",
    "    elif y_pred[i]== 4:\n",
    "        y_pred[i] = \"Miscellaneous\"\n",
    "    elif y_pred[i]== 5:\n",
    "        y_pred[i] = \"Snowman\""
   ]
  },
  {
   "cell_type": "code",
   "execution_count": 62,
   "metadata": {},
   "outputs": [],
   "source": [
    "submission_df = pd.DataFrame(data = zip(test['Image'], y_pred), columns = ['Image', 'Class'])"
   ]
  },
  {
   "cell_type": "code",
   "execution_count": 63,
   "metadata": {},
   "outputs": [
    {
     "data": {
      "text/html": [
       "<div>\n",
       "<style scoped>\n",
       "    .dataframe tbody tr th:only-of-type {\n",
       "        vertical-align: middle;\n",
       "    }\n",
       "\n",
       "    .dataframe tbody tr th {\n",
       "        vertical-align: top;\n",
       "    }\n",
       "\n",
       "    .dataframe thead th {\n",
       "        text-align: right;\n",
       "    }\n",
       "</style>\n",
       "<table border=\"1\" class=\"dataframe\">\n",
       "  <thead>\n",
       "    <tr style=\"text-align: right;\">\n",
       "      <th></th>\n",
       "      <th>Image</th>\n",
       "      <th>Class</th>\n",
       "    </tr>\n",
       "  </thead>\n",
       "  <tbody>\n",
       "    <tr>\n",
       "      <th>0</th>\n",
       "      <td>image10.jpg</td>\n",
       "      <td>Jacket</td>\n",
       "    </tr>\n",
       "    <tr>\n",
       "      <th>1</th>\n",
       "      <td>image100.jpg</td>\n",
       "      <td>Miscellaneous</td>\n",
       "    </tr>\n",
       "    <tr>\n",
       "      <th>2</th>\n",
       "      <td>image1013.jpg</td>\n",
       "      <td>Miscellaneous</td>\n",
       "    </tr>\n",
       "    <tr>\n",
       "      <th>3</th>\n",
       "      <td>image1014.jpg</td>\n",
       "      <td>Miscellaneous</td>\n",
       "    </tr>\n",
       "    <tr>\n",
       "      <th>4</th>\n",
       "      <td>image1018.jpg</td>\n",
       "      <td>Christmas_Tree</td>\n",
       "    </tr>\n",
       "  </tbody>\n",
       "</table>\n",
       "</div>"
      ],
      "text/plain": [
       "           Image           Class\n",
       "0    image10.jpg          Jacket\n",
       "1   image100.jpg   Miscellaneous\n",
       "2  image1013.jpg   Miscellaneous\n",
       "3  image1014.jpg   Miscellaneous\n",
       "4  image1018.jpg  Christmas_Tree"
      ]
     },
     "execution_count": 63,
     "metadata": {},
     "output_type": "execute_result"
    }
   ],
   "source": [
    "submission_df.head()"
   ]
  },
  {
   "cell_type": "code",
   "execution_count": 64,
   "metadata": {},
   "outputs": [
    {
     "data": {
      "text/plain": [
       "Miscellaneous     2468\n",
       "Christmas_Tree     793\n",
       "Jacket             124\n",
       "Candle              59\n",
       "Airplane            42\n",
       "Snowman              3\n",
       "Name: Class, dtype: int64"
      ]
     },
     "execution_count": 64,
     "metadata": {},
     "output_type": "execute_result"
    }
   ],
   "source": [
    "submission_df['Class'].value_counts()"
   ]
  },
  {
   "cell_type": "code",
   "execution_count": 65,
   "metadata": {},
   "outputs": [],
   "source": [
    "submission_df.to_csv('submission2.csv', index = False)"
   ]
  }
 ],
 "metadata": {
  "kernelspec": {
   "display_name": "Python 3",
   "language": "python",
   "name": "python3"
  },
  "language_info": {
   "codemirror_mode": {
    "name": "ipython",
    "version": 3
   },
   "file_extension": ".py",
   "mimetype": "text/x-python",
   "name": "python",
   "nbconvert_exporter": "python",
   "pygments_lexer": "ipython3",
   "version": "3.8.3"
  }
 },
 "nbformat": 4,
 "nbformat_minor": 4
}
